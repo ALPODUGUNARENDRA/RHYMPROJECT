{
 "cells": [
  {
   "cell_type": "code",
   "execution_count": 1,
   "id": "48dc4e33-5865-4519-848c-1392271253b4",
   "metadata": {},
   "outputs": [],
   "source": [
    "from bs4 import BeautifulSoup\n",
    "import requests"
   ]
  },
  {
   "cell_type": "code",
   "execution_count": 2,
   "id": "b41a3777-edf6-4adf-b94a-297fa506af9d",
   "metadata": {},
   "outputs": [],
   "source": [
    "url =  'https://attack.mitre.org/groups/'\n",
    "page = requests.get(url)\n"
   ]
  },
  {
   "cell_type": "code",
   "execution_count": 4,
   "id": "31db70f4-b194-4cab-8911-71492f09891c",
   "metadata": {},
   "outputs": [],
   "source": [
    "if page.status_code == 200:\n",
    "    soup = BeautifulSoup(page.text, 'html')\n",
    "else:\n",
    "    print(\"request failed\")"
   ]
  },
  {
   "cell_type": "code",
   "execution_count": 13,
   "id": "5c453902-1f05-4a92-809c-685da5fab8e8",
   "metadata": {},
   "outputs": [],
   "source": [
    "table_data = soup.find(\"table\")"
   ]
  },
  {
   "cell_type": "code",
   "execution_count": 16,
   "id": "e9225754-1e9b-46e1-a66f-8e54a7dbe05c",
   "metadata": {},
   "outputs": [],
   "source": [
    "table_body = table_data.find(\"tbody\")"
   ]
  },
  {
   "cell_type": "code",
   "execution_count": 29,
   "id": "60863f33-7961-4902-9193-1a869e4a62d3",
   "metadata": {},
   "outputs": [],
   "source": [
    "result = []\n",
    "for table_row in table_body.findAll(\"tr\"):\n",
    "    table_cols = table_row.findAll(\"td\")\n",
    "    result.append({\"id\":table_cols[0].text.replace(\"\\n\", \"\").strip(), \"name\":table_cols[1].text.replace(\"\\n\", \"\").stri\n"
   ]
  },
  {
   "cell_type": "code",
   "execution_count": 30,
   "id": "a2ef8be3-af90-4aa7-b959-a698cbf347de",
   "metadata": {},
   "outputs": [
    {
     "data": {
      "text/plain": [
       "[{'id': 'G0018', 'name': 'admin@338'},\n",
       " {'id': 'G0130', 'name': 'Ajax Security Team'},\n",
       " {'id': 'G1024', 'name': 'Akira'},\n",
       " {'id': 'G1000', 'name': 'ALLANITE'},\n",
       " {'id': 'G0138', 'name': 'Andariel'},\n",
       " {'id': 'G1007', 'name': 'Aoqin Dragon'},\n",
       " {'id': 'G1028', 'name': 'APT-C-23'},\n",
       " {'id': 'G0099', 'name': 'APT-C-36'},\n",
       " {'id': 'G0006', 'name': 'APT1'},\n",
       " {'id': 'G0005', 'name': 'APT12'},\n",
       " {'id': 'G0023', 'name': 'APT16'},\n",
       " {'id': 'G0025', 'name': 'APT17'},\n",
       " {'id': 'G0026', 'name': 'APT18'},\n",
       " {'id': 'G0073', 'name': 'APT19'},\n",
       " {'id': 'G0007', 'name': 'APT28'},\n",
       " {'id': 'G0016', 'name': 'APT29'},\n",
       " {'id': 'G0022', 'name': 'APT3'},\n",
       " {'id': 'G0013', 'name': 'APT30'},\n",
       " {'id': 'G0050', 'name': 'APT32'},\n",
       " {'id': 'G0064', 'name': 'APT33'},\n",
       " {'id': 'G0067', 'name': 'APT37'},\n",
       " {'id': 'G0082', 'name': 'APT38'},\n",
       " {'id': 'G0087', 'name': 'APT39'},\n",
       " {'id': 'G0096', 'name': 'APT41'},\n",
       " {'id': 'G1023', 'name': 'APT5'},\n",
       " {'id': 'G0143', 'name': 'Aquatic Panda'},\n",
       " {'id': 'G0001', 'name': 'Axiom'},\n",
       " {'id': 'G0135', 'name': 'BackdoorDiplomacy'},\n",
       " {'id': 'G1002', 'name': 'BITTER'},\n",
       " {'id': 'G0063', 'name': 'BlackOasis'},\n",
       " {'id': 'G0098', 'name': 'BlackTech'},\n",
       " {'id': 'G0108', 'name': 'Blue Mockingbird'},\n",
       " {'id': 'G0097', 'name': 'Bouncing Golf'},\n",
       " {'id': 'G0060', 'name': 'BRONZE BUTLER'},\n",
       " {'id': 'G0008', 'name': 'Carbanak'},\n",
       " {'id': 'G0114', 'name': 'Chimera'},\n",
       " {'id': 'G1021', 'name': 'Cinnamon Tempest'},\n",
       " {'id': 'G0003', 'name': 'Cleaver'},\n",
       " {'id': 'G0080', 'name': 'Cobalt Group'},\n",
       " {'id': 'G0142', 'name': 'Confucius'},\n",
       " {'id': 'G0052', 'name': 'CopyKittens'},\n",
       " {'id': 'G1012', 'name': 'CURIUM'},\n",
       " {'id': 'G1027', 'name': 'CyberAv3ngers'},\n",
       " {'id': 'G0070', 'name': 'Dark Caracal'},\n",
       " {'id': 'G0012', 'name': 'Darkhotel'},\n",
       " {'id': 'G0079', 'name': 'DarkHydrus'},\n",
       " {'id': 'G0105', 'name': 'DarkVishnya'},\n",
       " {'id': 'G0009', 'name': 'Deep Panda'},\n",
       " {'id': 'G0035', 'name': 'Dragonfly'},\n",
       " {'id': 'G0017', 'name': 'DragonOK'},\n",
       " {'id': 'G1006', 'name': 'Earth Lusca'},\n",
       " {'id': 'G0066', 'name': 'Elderwood'},\n",
       " {'id': 'G1003', 'name': 'Ember Bear'},\n",
       " {'id': 'G0020', 'name': 'Equation'},\n",
       " {'id': 'G0120', 'name': 'Evilnum'},\n",
       " {'id': 'G1011', 'name': 'EXOTIC LILY'},\n",
       " {'id': 'G0137', 'name': 'Ferocious Kitten'},\n",
       " {'id': 'G0051', 'name': 'FIN10'},\n",
       " {'id': 'G1016', 'name': 'FIN13'},\n",
       " {'id': 'G0085', 'name': 'FIN4'},\n",
       " {'id': 'G0053', 'name': 'FIN5'},\n",
       " {'id': 'G0037', 'name': 'FIN6'},\n",
       " {'id': 'G0046', 'name': 'FIN7'},\n",
       " {'id': 'G0061', 'name': 'FIN8'},\n",
       " {'id': 'G0117', 'name': 'Fox Kitten'},\n",
       " {'id': 'G0093', 'name': 'GALLIUM'},\n",
       " {'id': 'G0084', 'name': 'Gallmaker'},\n",
       " {'id': 'G0047', 'name': 'Gamaredon Group'},\n",
       " {'id': 'G0036', 'name': 'GCMAN'},\n",
       " {'id': 'G0115', 'name': 'GOLD SOUTHFIELD'},\n",
       " {'id': 'G0078', 'name': 'Gorgon Group'},\n",
       " {'id': 'G0043', 'name': 'Group5'},\n",
       " {'id': 'G0125', 'name': 'HAFNIUM'},\n",
       " {'id': 'G1001', 'name': 'HEXANE'},\n",
       " {'id': 'G0126', 'name': 'Higaisa'},\n",
       " {'id': 'G0100', 'name': 'Inception'},\n",
       " {'id': 'G0136', 'name': 'IndigoZebra'},\n",
       " {'id': 'G0119', 'name': 'Indrik Spider'},\n",
       " {'id': 'G0004', 'name': 'Ke3chang'},\n",
       " {'id': 'G0094', 'name': 'Kimsuky'},\n",
       " {'id': 'G1004', 'name': 'LAPSUS$'},\n",
       " {'id': 'G0032', 'name': 'Lazarus Group'},\n",
       " {'id': 'G0140', 'name': 'LazyScripter'},\n",
       " {'id': 'G0077', 'name': 'Leafminer'},\n",
       " {'id': 'G0065', 'name': 'Leviathan'},\n",
       " {'id': 'G0030', 'name': 'Lotus Blossom'},\n",
       " {'id': 'G1014', 'name': 'LuminousMoth'},\n",
       " {'id': 'G0095', 'name': 'Machete'},\n",
       " {'id': 'G0059', 'name': 'Magic Hound'},\n",
       " {'id': 'G1026', 'name': 'Malteiro'},\n",
       " {'id': 'G0045', 'name': 'menuPass'},\n",
       " {'id': 'G1013', 'name': 'Metador'},\n",
       " {'id': 'G0002', 'name': 'Moafee'},\n",
       " {'id': 'G0103', 'name': 'Mofang'},\n",
       " {'id': 'G0021', 'name': 'Molerats'},\n",
       " {'id': 'G1009', 'name': 'Moses Staff'},\n",
       " {'id': 'G1019', 'name': 'MoustachedBouncer'},\n",
       " {'id': 'G0069', 'name': 'MuddyWater'},\n",
       " {'id': 'G0129', 'name': 'Mustang Panda'},\n",
       " {'id': 'G1020', 'name': 'Mustard Tempest'},\n",
       " {'id': 'G0019', 'name': 'Naikon'},\n",
       " {'id': 'G0055', 'name': 'NEODYMIUM'},\n",
       " {'id': 'G0133', 'name': 'Nomadic Octopus'},\n",
       " {'id': 'G0049', 'name': 'OilRig'},\n",
       " {'id': 'G0071', 'name': 'Orangeworm'},\n",
       " {'id': 'G0040', 'name': 'Patchwork'},\n",
       " {'id': 'G0011', 'name': 'PittyTiger'},\n",
       " {'id': 'G0068', 'name': 'PLATINUM'},\n",
       " {'id': 'G1005', 'name': 'POLONIUM'},\n",
       " {'id': 'G0033', 'name': 'Poseidon Group'},\n",
       " {'id': 'G0056', 'name': 'PROMETHIUM'},\n",
       " {'id': 'G0024', 'name': 'Putter Panda'},\n",
       " {'id': 'G0075', 'name': 'Rancor'},\n",
       " {'id': 'G0106', 'name': 'Rocke'},\n",
       " {'id': 'G0048', 'name': 'RTM'},\n",
       " {'id': 'G0034', 'name': 'Sandworm Team'},\n",
       " {'id': 'G0029', 'name': 'Scarlet Mimic'},\n",
       " {'id': 'G1015', 'name': 'Scattered Spider'},\n",
       " {'id': 'G1008', 'name': 'SideCopy'},\n",
       " {'id': 'G0121', 'name': 'Sidewinder'},\n",
       " {'id': 'G0091', 'name': 'Silence'},\n",
       " {'id': 'G0122', 'name': 'Silent Librarian'},\n",
       " {'id': 'G0083', 'name': 'SilverTerrier'},\n",
       " {'id': 'G0054', 'name': 'Sowbug'},\n",
       " {'id': 'G0038', 'name': 'Stealth Falcon'},\n",
       " {'id': 'G0041', 'name': 'Strider'},\n",
       " {'id': 'G0039', 'name': 'Suckfly'},\n",
       " {'id': 'G1018', 'name': 'TA2541'},\n",
       " {'id': 'G0062', 'name': 'TA459'},\n",
       " {'id': 'G0092', 'name': 'TA505'},\n",
       " {'id': 'G0127', 'name': 'TA551'},\n",
       " {'id': 'G0139', 'name': 'TeamTNT'},\n",
       " {'id': 'G0088', 'name': 'TEMP.Veles'},\n",
       " {'id': 'G0089', 'name': 'The White Company'},\n",
       " {'id': 'G0028', 'name': 'Threat Group-1314'},\n",
       " {'id': 'G0027', 'name': 'Threat Group-3390'},\n",
       " {'id': 'G0076', 'name': 'Thrip'},\n",
       " {'id': 'G1022', 'name': 'ToddyCat'},\n",
       " {'id': 'G0131', 'name': 'Tonto Team'},\n",
       " {'id': 'G0134', 'name': 'Transparent Tribe'},\n",
       " {'id': 'G0081', 'name': 'Tropic Trooper'},\n",
       " {'id': 'G0010', 'name': 'Turla'},\n",
       " {'id': 'G1029', 'name': 'UNC788'},\n",
       " {'id': 'G0123', 'name': 'Volatile Cedar'},\n",
       " {'id': 'G1017', 'name': 'Volt Typhoon'},\n",
       " {'id': 'G0107', 'name': 'Whitefly'},\n",
       " {'id': 'G0124', 'name': 'Windigo'},\n",
       " {'id': 'G0112', 'name': 'Windshift'},\n",
       " {'id': 'G0044', 'name': 'Winnti Group'},\n",
       " {'id': 'G0090', 'name': 'WIRTE'},\n",
       " {'id': 'G0102', 'name': 'Wizard Spider'},\n",
       " {'id': 'G0128', 'name': 'ZIRCONIUM'}]"
      ]
     },
     "execution_count": 30,
     "metadata": {},
     "output_type": "execute_result"
    }
   ],
   "source": [
    "result"
   ]
  },
  {
   "cell_type": "code",
   "execution_count": 32,
   "id": "53520472-360f-46b3-963f-d50c65eccaa3",
   "metadata": {},
   "outputs": [
    {
     "data": {
      "text/plain": [
       "str"
      ]
     },
     "execution_count": 32,
     "metadata": {},
     "output_type": "execute_result"
    }
   ],
   "source": [
    "type(page.text)"
   ]
  },
  {
   "cell_type": "code",
   "execution_count": 33,
   "id": "a2558622-8e9c-4b23-b986-1f54c8f90174",
   "metadata": {},
   "outputs": [
    {
     "data": {
      "text/plain": [
       "bs4.BeautifulSoup"
      ]
     },
     "execution_count": 33,
     "metadata": {},
     "output_type": "execute_result"
    }
   ],
   "source": [
    "type(soup)"
   ]
  },
  {
   "cell_type": "code",
   "execution_count": 34,
   "id": "02539191-3768-49dc-83f7-db87d2a2b6c9",
   "metadata": {},
   "outputs": [
    {
     "data": {
      "text/plain": [
       "bs4.element.Tag"
      ]
     },
     "execution_count": 34,
     "metadata": {},
     "output_type": "execute_result"
    }
   ],
   "source": [
    "type(table_body)"
   ]
  },
  {
   "cell_type": "code",
   "execution_count": null,
   "id": "934490e4-9e6e-4700-930a-3370c05ac767",
   "metadata": {},
   "outputs": [],
   "source": []
  }
 ],
 "metadata": {
  "kernelspec": {
   "display_name": "Python 3 (ipykernel)",
   "language": "python",
   "name": "python3"
  },
  "language_info": {
   "codemirror_mode": {
    "name": "ipython",
    "version": 3
   },
   "file_extension": ".py",
   "mimetype": "text/x-python",
   "name": "python",
   "nbconvert_exporter": "python",
   "pygments_lexer": "ipython3",
   "version": "3.12.4"
  }
 },
 "nbformat": 4,
 "nbformat_minor": 5
}
